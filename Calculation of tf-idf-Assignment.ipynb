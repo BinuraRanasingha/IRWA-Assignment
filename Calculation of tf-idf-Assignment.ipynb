{
 "cells": [
  {
   "cell_type": "code",
   "execution_count": 2,
   "id": "83151639",
   "metadata": {},
   "outputs": [],
   "source": [
    "#documents\n",
    "Doc1 = 'Information Retrieval System'\n",
    "Doc2 = 'Information about the Human Resource System'\n",
    "Doc3 = 'Resources allocated to Faculty of Computing Information Centre'\n",
    "Doc4 = 'Ranked Retrieval Model with High Accuracy'\n",
    "Doc5 = 'Boolean Retrieval Model has Several Problems'"
   ]
  },
  {
   "cell_type": "code",
   "execution_count": 7,
   "id": "97b12479",
   "metadata": {},
   "outputs": [
    {
     "name": "stdout",
     "output_type": "stream",
     "text": [
      "             term  Retrieval  Information  System\n",
      "0  Term Frequency          1            1       1\n",
      "             term  Information  Human  the  about  System  Resource\n",
      "0  Term Frequency            1      1    1      1       1         1\n",
      "             term  Information  to  Centre  Computing  Resources  of  \\\n",
      "0  Term Frequency            1   1       1          1          1   1   \n",
      "\n",
      "   allocated  Faculty  \n",
      "0          1        1  \n",
      "             term  Accuracy  with  Retrieval  Ranked  Model  High\n",
      "0  Term Frequency         1     1          1       1      1     1\n",
      "             term  Retrieval  Boolean  Problems  has  Several  Model\n",
      "0  Term Frequency          1        1         1    1        1      1\n"
     ]
    }
   ],
   "source": [
    "#Question 1 part a\n",
    "import math\n",
    "import pandas as pd #importing the necessary libraries\n",
    "import numpy as np\n",
    "\n",
    "#Method to calculate the term frequency and document frequency\n",
    "def cal_tf(docs_list):\n",
    "    for doc in docs_list:\n",
    "        doc1_lst = doc.split(\" \")\n",
    "        wordDict_1 = dict.fromkeys(set(doc1_lst),0)\n",
    "        \n",
    "        for token in doc1_lst:\n",
    "            wordDict_1[token] += 1\n",
    "        df = pd.DataFrame([wordDict_1])\n",
    "        \n",
    "        i = 0\n",
    "        new_col = [\"Term Frequency\"]\n",
    "        df.insert(loc = i, column = 'term', value = new_col)\n",
    "        print(df)\n",
    "        \n",
    "cal_tf([Doc1,Doc2,Doc3,Doc4,Doc5])"
   ]
  },
  {
   "cell_type": "code",
   "execution_count": 18,
   "id": "f9d463e9",
   "metadata": {},
   "outputs": [
    {
     "data": {
      "text/plain": [
       "{'Information': 3,\n",
       " 'Retrieval': 3,\n",
       " 'System': 2,\n",
       " 'about': 1,\n",
       " 'the': 1,\n",
       " 'Human': 1,\n",
       " 'Resource': 1,\n",
       " 'Resources': 1,\n",
       " 'allocated': 1,\n",
       " 'to': 1,\n",
       " 'Faculty': 1,\n",
       " 'of': 1,\n",
       " 'Computing': 1,\n",
       " 'Centre': 1,\n",
       " 'Ranked': 1,\n",
       " 'Model': 2,\n",
       " 'with': 1,\n",
       " 'High': 1,\n",
       " 'Accuracy': 1,\n",
       " 'Boolean': 1,\n",
       " 'has': 1,\n",
       " 'Several': 1,\n",
       " 'Problems': 1}"
      ]
     },
     "execution_count": 18,
     "metadata": {},
     "output_type": "execute_result"
    }
   ],
   "source": [
    "#Question 1 part a\n",
    "#Method to calculate document frequency\n",
    "def documentFrequency(term, alldocs):\n",
    "    NumOfDocsWithTerm = 0\n",
    "    for doc in range(0,len(alldocs)):\n",
    "        if term.lower() in alldocs[doc].lower().split():\n",
    "            NumOfDocsWithTerm += 1\n",
    "    return NumOfDocsWithTerm\n",
    "\n",
    "\n",
    "def cal_df(documents):\n",
    "    df_dict = {}\n",
    "    for doc in documents:\n",
    "        sentence = doc.split()\n",
    "        for word in sentence:\n",
    "            df_dict[word] = documentFrequency(word, documents)\n",
    "    return df_dict\n",
    "df_dict = cal_df([Doc1, Doc2, Doc3,Doc4,Doc5])\n",
    "cal_df([Doc1, Doc2, Doc3,Doc4,Doc5])"
   ]
  },
  {
   "cell_type": "code",
   "execution_count": 20,
   "id": "5626bc25",
   "metadata": {},
   "outputs": [
    {
     "data": {
      "text/plain": [
       "{'Information': 2.6094379124341005,\n",
       " 'Retrieval': 2.6094379124341005,\n",
       " 'System': 2.6094379124341005,\n",
       " 'about': 2.6094379124341005,\n",
       " 'the': 2.6094379124341005,\n",
       " 'Human': 2.6094379124341005,\n",
       " 'Resource': 2.6094379124341005,\n",
       " 'Resources': 2.6094379124341005,\n",
       " 'allocated': 2.6094379124341005,\n",
       " 'to': 2.6094379124341005,\n",
       " 'Faculty': 2.6094379124341005,\n",
       " 'of': 2.6094379124341005,\n",
       " 'Computing': 2.6094379124341005,\n",
       " 'Centre': 2.6094379124341005,\n",
       " 'Ranked': 2.6094379124341005,\n",
       " 'Model': 2.6094379124341005,\n",
       " 'with': 2.6094379124341005,\n",
       " 'High': 2.6094379124341005,\n",
       " 'Accuracy': 2.6094379124341005,\n",
       " 'Boolean': 2.6094379124341005,\n",
       " 'has': 2.6094379124341005,\n",
       " 'Several': 2.6094379124341005,\n",
       " 'Problems': 2.6094379124341005}"
      ]
     },
     "execution_count": 20,
     "metadata": {},
     "output_type": "execute_result"
    }
   ],
   "source": [
    "#Question 1 part b\n",
    "#Method to calculate the inverse document frequency\n",
    "def inverseDocFreq(term,alldoc):\n",
    "    NoOfDocsWithThisTerm = 0\n",
    "    for doc in range (0,len(alldoc)):\n",
    "        if term.lower() in alldoc[doc].lower().split():\n",
    "            NoOfDocsWithThisTerm += 1\n",
    "            \n",
    "        if NoOfDocsWithThisTerm >0:\n",
    "            return 1.0 + math.log(float(len(alldoc)) / NoOfDocsWithThisTerm)\n",
    "        \n",
    "def calc_idf(documents):\n",
    "    idf_dict = {}\n",
    "    for doc in documents:\n",
    "        sentence = doc.split()\n",
    "        for word in sentence:\n",
    "            idf_dict[word] = inverseDocFreq(word,documents)\n",
    "    return idf_dict\n",
    "idf_dict = calc_idf([Doc1,Doc2,Doc3,Doc4,Doc5])\n",
    "\n",
    "calc_idf([Doc1,Doc2,Doc3,Doc4,Doc5])"
   ]
  },
  {
   "cell_type": "code",
   "execution_count": 29,
   "id": "f16f2a37",
   "metadata": {},
   "outputs": [],
   "source": [
    "#Question 1 part b\n",
    "#Method to calculate the tf-idf scores\n",
    "def cal_tfidf(documents, query):\n",
    "    tfidf = []\n",
    "    index = 0\n",
    "    query_tokens = query.split()\n",
    "    df = pd.DataFrame(columns = ['doc'] + query_tokens)\n",
    "    for doc in documents:\n",
    "        df['doc'] = np.arrange(0,len(documents))\n",
    "        doc_num = tf_doc[indedx]\n",
    "        sentence = doc.split()\n",
    "        for word in sentence:\n",
    "            for text in query_tokens:\n",
    "                if(text == word):\n",
    "                    idx = sentence.index(word)\n",
    "                    tfidf_score = doc_num[word] * idf_dict[word]\n",
    "                    tfidf.append(tfidf_score)\n",
    "                    df.iloc[index,df.columns.get_loc(word)] = tfidf_score\n",
    "        index += 1\n",
    "    df.fillna(0, axis = 1, inplace = True)\n",
    "    return tfidf, df\n",
    "\n",
    "#documents = [Doc1,Doc2,Doc3,Doc4,Doc5]\n",
    "#tfidf, df = cal_tfidf(documents, query)\n",
    "#print(df)"
   ]
  },
  {
   "cell_type": "code",
   "execution_count": null,
   "id": "09ec8875",
   "metadata": {},
   "outputs": [],
   "source": []
  }
 ],
 "metadata": {
  "kernelspec": {
   "display_name": "Python 3 (ipykernel)",
   "language": "python",
   "name": "python3"
  },
  "language_info": {
   "codemirror_mode": {
    "name": "ipython",
    "version": 3
   },
   "file_extension": ".py",
   "mimetype": "text/x-python",
   "name": "python",
   "nbconvert_exporter": "python",
   "pygments_lexer": "ipython3",
   "version": "3.9.12"
  }
 },
 "nbformat": 4,
 "nbformat_minor": 5
}
